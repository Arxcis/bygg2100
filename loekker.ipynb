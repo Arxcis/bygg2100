{
 "cells": [
  {
   "cell_type": "markdown",
   "id": "4555c52e-2540-416e-82cc-c4a31de47d4f",
   "metadata": {},
   "source": [
    "# Forelesning om løkker i BYGG2100 h-24"
   ]
  },
  {
   "cell_type": "code",
   "execution_count": 2,
   "id": "57577be1-694e-400e-a834-741d726674b4",
   "metadata": {},
   "outputs": [
    {
     "name": "stdout",
     "output_type": "stream",
     "text": [
      "1\n"
     ]
    }
   ],
   "source": [
    "x = 1\n",
    "print(x)"
   ]
  },
  {
   "cell_type": "code",
   "execution_count": null,
   "id": "b688185b-2800-480c-95fb-f900b375a818",
   "metadata": {},
   "outputs": [],
   "source": []
  }
 ],
 "metadata": {
  "kernelspec": {
   "display_name": "Python 3 (ipykernel)",
   "language": "python",
   "name": "python3"
  },
  "language_info": {
   "codemirror_mode": {
    "name": "ipython",
    "version": 3
   },
   "file_extension": ".py",
   "mimetype": "text/x-python",
   "name": "python",
   "nbconvert_exporter": "python",
   "pygments_lexer": "ipython3",
   "version": "3.12.4"
  }
 },
 "nbformat": 4,
 "nbformat_minor": 5
}
